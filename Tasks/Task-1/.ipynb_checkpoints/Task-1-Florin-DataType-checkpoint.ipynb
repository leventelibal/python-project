{
 "cells": [
  {
   "cell_type": "code",
   "execution_count": 2,
   "metadata": {},
   "outputs": [
    {
     "name": "stdout",
     "output_type": "stream",
     "text": [
      "This is my string type variable\n",
      "is my st\n",
      "19\n",
      "My name is John and i am 19\n",
      "['Abby', 'Jace', 'Navaeh']\n",
      "['Abby', 'Jace', 'Emma', 'Navaeh']\n",
      "1\n",
      "1\n"
     ]
    }
   ],
   "source": [
    "#1\n",
    "my_string = 'This is my string type variable'\n",
    "print(my_string)\n",
    "#2\n",
    "my_cuted_string = my_string[5:13]\n",
    "print(my_cuted_string)\n",
    "#3\n",
    "my_integer = 2000\n",
    "#4\n",
    "my_age = 2019 - my_integer\n",
    "print(my_age)\n",
    "#6\n",
    "my_name = 'John'\n",
    "print('My name is' )\n",
    "#me = f\"My name is {my_name} and i am {my_age}\"\n",
    "#print(me)\n",
    "#7\n",
    "my_users = list(['Abby','Jace','Navaeh'])\n",
    "print(my_users)\n",
    "my_users.insert(2,'Emma')\n",
    "print(my_users)\n",
    "print(my_users.count('Jace'))\n",
    "print(my_users.index('Jace'))\n"
   ]
  },
  {
   "cell_type": "code",
   "execution_count": 88,
   "metadata": {},
   "outputs": [
    {
     "name": "stdout",
     "output_type": "stream",
     "text": [
      "[{'username': 'emma-11', 'firstname': 'Lopes', 'password': 'redhat'}, {'username': 'frank', 'firstname': 'Frank', 'lastname': 'Smith', 'password': 'frank2019'}]\n"
     ]
    }
   ],
   "source": [
    "github_users = []\n",
    "user_emma = {\"username\": 'emma-11', \"firstname\": 'Lopes', \"password\": 'redhat'}\n",
    "user_smith = {\"username\": \"frank\",\"firstname\": \"Frank\",\"lastname\": \"Smith\",\"password\": \"frank2019\"}\n",
    "github_users.append(user_emma)\n",
    "github_users.append(user_smith)\n",
    "print(github_users)"
   ]
  },
  {
   "cell_type": "code",
   "execution_count": 85,
   "metadata": {},
   "outputs": [
    {
     "name": "stdout",
     "output_type": "stream",
     "text": [
      "emma-11 frank\n"
     ]
    }
   ],
   "source": [
    "print(github_users[0]['username'], (github_users[1]['username']))"
   ]
  },
  {
   "cell_type": "code",
   "execution_count": null,
   "metadata": {},
   "outputs": [],
   "source": []
  }
 ],
 "metadata": {
  "kernelspec": {
   "display_name": "Python 3",
   "language": "python",
   "name": "python3"
  },
  "language_info": {
   "codemirror_mode": {
    "name": "ipython",
    "version": 3
   },
   "file_extension": ".py",
   "mimetype": "text/x-python",
   "name": "python",
   "nbconvert_exporter": "python",
   "pygments_lexer": "ipython3",
   "version": "3.6.5"
  }
 },
 "nbformat": 4,
 "nbformat_minor": 2
}
