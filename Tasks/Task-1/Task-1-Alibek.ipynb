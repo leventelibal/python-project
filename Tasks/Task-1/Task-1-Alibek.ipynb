{
 "cells": [
  {
   "cell_type": "code",
   "execution_count": null,
   "metadata": {},
   "outputs": [],
   "source": [
    "#task 1\n",
    "#1\n",
    "my_string = \"This is my string type variable\"\n",
    "print(my_string)\n",
    "\n",
    "#2\n",
    "my_cut_string = my_string[5:13]\n",
    "print(my_cut_string)\n",
    "\n",
    "#3-4\n",
    "my_integer = 1988\n",
    "my_age = 2019 - my_integer\n",
    "print(my_age)\n",
    "\n",
    "#5\n",
    "my_name = \"Alibek\"\n",
    "print(\"My name is \" + my_name + \" and I am \" + str(my_age))\n",
    "\n",
    "#6,7,8\n",
    "my_users = ['Abby', 'Jade', 'Neveah']\n",
    "my_users.insert(2, 'Emma')\n",
    "print(my_users)\n",
    "my_users[1] is 'Jade'"
   ]
  }
 ],
 "metadata": {
  "kernelspec": {
   "display_name": "Python 3",
   "language": "python",
   "name": "python3"
  },
  "language_info": {
   "codemirror_mode": {
    "name": "ipython",
    "version": 3
   },
   "file_extension": ".py",
   "mimetype": "text/x-python",
   "name": "python",
   "nbconvert_exporter": "python",
   "pygments_lexer": "ipython3",
   "version": "3.6.5"
  }
 },
 "nbformat": 4,
 "nbformat_minor": 2
}
