{
 "cells": [
  {
   "cell_type": "code",
   "execution_count": 1,
   "metadata": {},
   "outputs": [
    {
     "name": "stdout",
     "output_type": "stream",
     "text": [
      "This is my string type variable\n"
     ]
    }
   ],
   "source": [
    "#1. Create string data type variable \"my_string\" value should be \"This is my string type variable\" add print next line.\n",
    "\n",
    "my_string = 'This is my string type variable'\n",
    "print(my_string)\n"
   ]
  },
  {
   "cell_type": "code",
   "execution_count": 2,
   "metadata": {},
   "outputs": [
    {
     "name": "stdout",
     "output_type": "stream",
     "text": [
      "['This ', 'ring type variable.']\n"
     ]
    }
   ],
   "source": [
    "#2.Create variable call \"my_cuted_string\" value should be \"is my st \" you should cut from\"\"my_string\" and print the next line.\n",
    "\n",
    "my_string = 'This is my string type variable.'\n",
    "my_cuted_string = my_string.split('is my st')\n",
    "\n",
    "print(my_cuted_string)"
   ]
  },
  {
   "cell_type": "code",
   "execution_count": 3,
   "metadata": {},
   "outputs": [
    {
     "name": "stdout",
     "output_type": "stream",
     "text": [
      "30\n"
     ]
    }
   ],
   "source": [
    "#3.Create int type variable call \"my_integer\" value should be year on your birthday.\n",
    "\n",
    "\n",
    "my_integar = 1989\n",
    "now = 2019\n",
    "my_age = now - my_integar\n",
    "\n",
    "print(my_age)\n"
   ]
  },
  {
   "cell_type": "code",
   "execution_count": 4,
   "metadata": {},
   "outputs": [
    {
     "name": "stdout",
     "output_type": "stream",
     "text": [
      "My name is Madina and i am 30\n"
     ]
    }
   ],
   "source": [
    "#4.Create variable call \"my_age\" and value hsould count from \"my_integer\" variable and print on the next line.\n",
    "\n",
    "my_integar = 1989\n",
    "now = 2019\n",
    "my_age = now - my_integar\n",
    "my_name = 'Madina'\n",
    "\n",
    "print(f'My name is {my_name} and i am {my_age}')\n"
   ]
  },
  {
   "cell_type": "code",
   "execution_count": 5,
   "metadata": {},
   "outputs": [
    {
     "name": "stdout",
     "output_type": "stream",
     "text": [
      "My name is Madina and i am 30\n"
     ]
    }
   ],
   "source": [
    "#5.Create variable call \"my_name\" value should be your first name and print on the next line \"My name is : your name and i am \"you age\"\n",
    "\n",
    "my_name = \"Madina\"\n",
    "my_integar = 1989\n",
    "now = 2019\n",
    "my_age = now - my_integar\n",
    "\n",
    "print(f'My name is {my_name} and i am {my_age}')\n",
    "\n"
   ]
  },
  {
   "cell_type": "code",
   "execution_count": 6,
   "metadata": {},
   "outputs": [
    {
     "name": "stdout",
     "output_type": "stream",
     "text": [
      "['Abby', 'Jace', 'Nevaeh']\n"
     ]
    }
   ],
   "source": [
    "#6.Create list call \"my_users\" with content should be Abby,Jace,Nevaeh and print on next line.\n",
    "\n",
    "my_users = ['Abby']\n",
    "my_users.append('Jace')\n",
    "my_users.append('Nevaeh')\n",
    "\n",
    "print(my_users)"
   ]
  },
  {
   "cell_type": "code",
   "execution_count": 7,
   "metadata": {},
   "outputs": [
    {
     "name": "stdout",
     "output_type": "stream",
     "text": [
      "['Abby', 'Jace', 'Emma', 'Nevaeh']\n"
     ]
    }
   ],
   "source": [
    "#7.Add user \"Emma\" after \"Jase\" and print on next line.\n",
    "\n",
    "my_users = ['Abby']\n",
    "my_users.append('Jace')\n",
    "my_users.append('Nevaeh')\n",
    "my_users.insert(2, 'Emma')\n",
    "\n",
    "print(my_users)"
   ]
  },
  {
   "cell_type": "code",
   "execution_count": 8,
   "metadata": {},
   "outputs": [
    {
     "data": {
      "text/plain": [
       "False"
      ]
     },
     "execution_count": 8,
     "metadata": {},
     "output_type": "execute_result"
    }
   ],
   "source": [
    "#8.Check 2 users name is Jace 'True or False.'\n",
    "\n",
    "my_users = ['Abby']\n",
    "my_users.append('Jace')\n",
    "my_users.append('Nevaeh')\n",
    "my_users.insert(2, 'Emma')\n",
    "\n",
    "my_users[2] is 'Jace'"
   ]
  }
 ],
 "metadata": {
  "kernelspec": {
   "display_name": "Python 3",
   "language": "python",
   "name": "python3"
  },
  "language_info": {
   "codemirror_mode": {
    "name": "ipython",
    "version": 3
   },
   "file_extension": ".py",
   "mimetype": "text/x-python",
   "name": "python",
   "nbconvert_exporter": "python",
   "pygments_lexer": "ipython3",
   "version": "3.6.5"
  }
 },
 "nbformat": 4,
 "nbformat_minor": 2
}
