{
 "cells": [
  {
   "cell_type": "code",
   "execution_count": 1,
   "metadata": {},
   "outputs": [
    {
     "name": "stdout",
     "output_type": "stream",
     "text": [
      "This is my string type variable.\n"
     ]
    }
   ],
   "source": [
    "#Task 1 data types\n",
    "1.\n",
    "\n",
    "my_string = 'This is my string type variable.'\n",
    "print(my_string)"
   ]
  },
  {
   "cell_type": "code",
   "execution_count": 28,
   "metadata": {},
   "outputs": [
    {
     "name": "stdout",
     "output_type": "stream",
     "text": [
      "['This ', 'ring type variable.']\n"
     ]
    }
   ],
   "source": [
    "2.\n",
    "\n",
    "my_string = 'This is my string type variable.'\n",
    "my_cuted_string = my_string.split('is my st')\n",
    "\n",
    "print(my_cuted_string)"
   ]
  },
  {
   "cell_type": "code",
   "execution_count": 4,
   "metadata": {},
   "outputs": [
    {
     "name": "stdout",
     "output_type": "stream",
     "text": [
      "24\n"
     ]
    }
   ],
   "source": [
    "3-4.\n",
    "\n",
    "my_integar = 1995\n",
    "now = 2019\n",
    "my_age = now - my_integar\n",
    "\n",
    "print(my_age)"
   ]
  },
  {
   "cell_type": "code",
   "execution_count": 27,
   "metadata": {},
   "outputs": [
    {
     "name": "stdout",
     "output_type": "stream",
     "text": [
      "My name is Murod and i am 24\n"
     ]
    }
   ],
   "source": [
    "5.\n",
    "\n",
    "my_integar = 1995\n",
    "now = 2019\n",
    "my_age = now - my_integar\n",
    "my_name = 'Murod'\n",
    "\n",
    "print(f'My name is {my_name} and i am {my_age}')"
   ]
  },
  {
   "cell_type": "code",
   "execution_count": 10,
   "metadata": {},
   "outputs": [
    {
     "name": "stdout",
     "output_type": "stream",
     "text": [
      "['Abby', 'Jace', 'Nevaeh']\n"
     ]
    }
   ],
   "source": [
    "6.\n",
    "\n",
    "my_users = ['Abby']\n",
    "my_users.append('Jace')\n",
    "my_users.append('Nevaeh')\n",
    "\n",
    "print(my_users)"
   ]
  },
  {
   "cell_type": "code",
   "execution_count": 11,
   "metadata": {},
   "outputs": [
    {
     "name": "stdout",
     "output_type": "stream",
     "text": [
      "['Abby', 'Jace', 'Emma', 'Nevaeh']\n"
     ]
    }
   ],
   "source": [
    "7.\n",
    "\n",
    "my_users = ['Abby']\n",
    "my_users.append('Jace')\n",
    "my_users.append('Nevaeh')\n",
    "my_users.insert(2, 'Emma')\n",
    "\n",
    "print(my_users)"
   ]
  },
  {
   "cell_type": "code",
   "execution_count": 17,
   "metadata": {},
   "outputs": [
    {
     "data": {
      "text/plain": [
       "False"
      ]
     },
     "execution_count": 17,
     "metadata": {},
     "output_type": "execute_result"
    }
   ],
   "source": [
    "8.\n",
    "\n",
    "my_users = ['Abby']\n",
    "my_users.append('Jace')\n",
    "my_users.append('Nevaeh')\n",
    "my_users.insert(2, 'Emma')\n",
    "\n",
    "my_users[2] is 'Jace'"
   ]
  }
 ],
 "metadata": {
  "kernelspec": {
   "display_name": "Python 3",
   "language": "python",
   "name": "python3"
  },
  "language_info": {
   "codemirror_mode": {
    "name": "ipython",
    "version": 3
   },
   "file_extension": ".py",
   "mimetype": "text/x-python",
   "name": "python",
   "nbconvert_exporter": "python",
   "pygments_lexer": "ipython3",
   "version": "3.6.5"
  }
 },
 "nbformat": 4,
 "nbformat_minor": 2
}
