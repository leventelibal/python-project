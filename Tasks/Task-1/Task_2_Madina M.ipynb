{
 "cells": [
  {
   "cell_type": "code",
   "execution_count": 2,
   "metadata": {},
   "outputs": [
    {
     "name": "stdout",
     "output_type": "stream",
     "text": [
      "Emma-11\n"
     ]
    },
    {
     "data": {
      "text/plain": [
       "False"
      ]
     },
     "execution_count": 2,
     "metadata": {},
     "output_type": "execute_result"
    }
   ],
   "source": [
    "# 1. Create empty list call \"github_users\"\n",
    "\n",
    "\n",
    "github_users = list(['user_Emma', 'user_Frank'])\n",
    "user_Emma = {'username' :'Emma-11', 'firstname' : 'Emma', 'lastname' : 'Lopes', 'password' : 'redhat'}\n",
    "user_Frank = {'username' : 'Frank', 'firstname' : 'Frank', 'lastname' : 'Smith', 'password' : 'frank2019'}\n",
    "\n",
    "print(user_Emma['username'])\n",
    "user_Frank['firstname'] is 'Smith'"
   ]
  },
  {
   "cell_type": "code",
   "execution_count": null,
   "metadata": {},
   "outputs": [],
   "source": []
  }
 ],
 "metadata": {
  "kernelspec": {
   "display_name": "Python 3",
   "language": "python",
   "name": "python3"
  },
  "language_info": {
   "codemirror_mode": {
    "name": "ipython",
    "version": 3
   },
   "file_extension": ".py",
   "mimetype": "text/x-python",
   "name": "python",
   "nbconvert_exporter": "python",
   "pygments_lexer": "ipython3",
   "version": "3.6.5"
  }
 },
 "nbformat": 4,
 "nbformat_minor": 2
}
