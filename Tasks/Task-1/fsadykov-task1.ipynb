{
 "cells": [
  {
   "cell_type": "markdown",
   "metadata": {},
   "source": [
    "\n",
    "# Task 1 data types \n",
    "\n",
    "1. Create string data type variable call `my_string` value should be `This is my string type variable.` and print  on next line. \n",
    "2. Create variable call `my_cuted_string` value should be `is my st`  you should cut from `my_string` and print on next line. \n",
    "3. Create int type variable call `my_integer` value should be year on your birthday. \n",
    "4. Create variable call `my_age` and value should count from `my_integer` variable and print on next line. \n",
    "5. Create variable call `my_name`  value should be your first name and print on next line `My name is :` your name `and i am :`your age .  \n",
    "6. Create list call `my_users`   with contents should be `Abby`, `Jace`, `Nevaeh` and print on next line.  \n",
    "7. Add user `Emma` after `Jase`  and print on next line.  \n",
    "8. Check 2 user's name is `Jace` True or False\n",
    "9. Push to repository and send picture of the result.\n",
    "\n"
   ]
  },
  {
   "cell_type": "code",
   "execution_count": null,
   "metadata": {},
   "outputs": [],
   "source": []
  }
 ],
 "metadata": {
  "kernelspec": {
   "display_name": "Python 3",
   "language": "python",
   "name": "python3"
  },
  "language_info": {
   "codemirror_mode": {
    "name": "ipython",
    "version": 3
   },
   "file_extension": ".py",
   "mimetype": "text/x-python",
   "name": "python",
   "nbconvert_exporter": "python",
   "pygments_lexer": "ipython3",
   "version": "3.6.5"
  }
 },
 "nbformat": 4,
 "nbformat_minor": 2
}
