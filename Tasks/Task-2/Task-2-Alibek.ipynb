{
 "cells": [
  {
   "cell_type": "code",
   "execution_count": null,
   "metadata": {},
   "outputs": [],
   "source": [
    "#Task2\n",
    "#1\n",
    "github_users = []\n",
    "\n",
    "#2\n",
    "user_emma = {'username':'emma-11', 'firstname':'Emma', 'lastname':'Lopez', 'password':'redhat'}\n",
    "\n",
    "#3\n",
    "user_smith = {'username':'frank', 'firstname':'Frank', 'lastname':'Smith', 'password':'frank2019'}\n",
    "\n",
    "#4\n",
    "github_users.append(user_emma)\n",
    "github_users.append(user_smith)\n",
    "\n",
    "#5\n",
    "print(github_users[0]['username'])\n",
    "\n",
    "#6\n",
    "github_users[1]['firstname'] is 'Frank'"
   ]
  }
 ],
 "metadata": {
  "kernelspec": {
   "display_name": "Python 3",
   "language": "python",
   "name": "python3"
  },
  "language_info": {
   "codemirror_mode": {
    "name": "ipython",
    "version": 3
   },
   "file_extension": ".py",
   "mimetype": "text/x-python",
   "name": "python",
   "nbconvert_exporter": "python",
   "pygments_lexer": "ipython3",
   "version": "3.6.5"
  }
 },
 "nbformat": 4,
 "nbformat_minor": 2
}
