{
 "cells": [
  {
   "cell_type": "code",
   "execution_count": 58,
   "metadata": {},
   "outputs": [
    {
     "name": "stdout",
     "output_type": "stream",
     "text": [
      "email: Keving.Wick@Fuchicorp.com\n",
      "email: Emma.Gipson@Apple.com\n",
      "None\n",
      "Emma\n"
     ]
    }
   ],
   "source": [
    "female = []\n",
    "male = []\n",
    "\n",
    "user1 = {\n",
    "    'username': 'keving',\n",
    "    'status': True,\n",
    "    'first_name': 'Keving',\n",
    "    'last_name': 'Wick',\n",
    "    'gender': 'male',\n",
    "    'member': 'Fuchicorp'\n",
    "}\n",
    "user2 = {\n",
    "    'username': 'cutiebun',\n",
    "    'status': False,\n",
    "    'first_name': 'Emma',\n",
    "    'last_name': 'Gipson',\n",
    "    'gender': 'female',\n",
    "    'member': 'Apple'\n",
    "}\n",
    "\n",
    "if user1['member']:\n",
    "    print(f'email: {user1[\"first_name\"]}.{user1[\"last_name\"]}@{user1[\"member\"]}.com')\n",
    "else:\n",
    "    print('bye!')\n",
    "if user2['member']:\n",
    "          print(f'email: {user2[\"first_name\"]}.{user2[\"last_name\"]}@{user2[\"member\"]}.com')\n",
    "\n",
    "if 'female' in user2['gender']:\n",
    "          print(female.append(user2))\n",
    "else:\n",
    "     print(male.append(user2))      \n",
    "print(female[0]['first_name'])\n",
    "   "
   ]
  },
  {
   "cell_type": "code",
   "execution_count": null,
   "metadata": {},
   "outputs": [],
   "source": []
  }
 ],
 "metadata": {
  "kernelspec": {
   "display_name": "Python 3",
   "language": "python",
   "name": "python3"
  },
  "language_info": {
   "codemirror_mode": {
    "name": "ipython",
    "version": 3
   },
   "file_extension": ".py",
   "mimetype": "text/x-python",
   "name": "python",
   "nbconvert_exporter": "python",
   "pygments_lexer": "ipython3",
   "version": "3.6.5"
  }
 },
 "nbformat": 4,
 "nbformat_minor": 2
}
