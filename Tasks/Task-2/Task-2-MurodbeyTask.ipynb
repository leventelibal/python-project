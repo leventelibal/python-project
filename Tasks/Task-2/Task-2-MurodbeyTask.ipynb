{
 "cells": [
  {
   "cell_type": "code",
   "execution_count": 13,
   "metadata": {},
   "outputs": [
    {
     "name": "stdout",
     "output_type": "stream",
     "text": [
      "emma-11\n"
     ]
    },
    {
     "data": {
      "text/plain": [
       "False"
      ]
     },
     "execution_count": 13,
     "metadata": {},
     "output_type": "execute_result"
    }
   ],
   "source": [
    "#Task-2\n",
    "\n",
    "github_users = list(['user_emma', 'user_frank'])\n",
    "user_emma = {'username' :'emma-11', 'firstname' : 'Emma', 'lastname' : 'Lopes', 'password' : 'redhat'}\n",
    "user_frank = {'username' : 'frank', 'firstname' : 'Frank', 'lastname' : 'Smith', 'password' : 'frank2019'}\n",
    "\n",
    "print(user_emma['username'])\n",
    "user_frank['firstname'] is 'Smith'"
   ]
  },
  {
   "cell_type": "code",
   "execution_count": null,
   "metadata": {},
   "outputs": [],
   "source": []
  }
 ],
 "metadata": {
  "kernelspec": {
   "display_name": "Python 3",
   "language": "python",
   "name": "python3"
  },
  "language_info": {
   "codemirror_mode": {
    "name": "ipython",
    "version": 3
   },
   "file_extension": ".py",
   "mimetype": "text/x-python",
   "name": "python",
   "nbconvert_exporter": "python",
   "pygments_lexer": "ipython3",
   "version": "3.6.5"
  }
 },
 "nbformat": 4,
 "nbformat_minor": 2
}
