{
 "cells": [
  {
   "cell_type": "code",
   "execution_count": 20,
   "metadata": {},
   "outputs": [
    {
     "name": "stdout",
     "output_type": "stream",
     "text": [
      "[{'username': 'keving', 'status': True, 'firstname': 'Kevin', 'lastname': 'Wick', 'gender': 'male', 'member': 'FuchiCorp', 'email': 'kevin.wick@fuchicorp.com'}]\n",
      "[{'username': 'cutiebun', 'status': False, 'firstname': 'Emma', 'lastname': 'Gibson', 'gender': 'female', 'member': 'Apple', 'email': 'emma.gibson@apple.com'}]\n"
     ]
    }
   ],
   "source": [
    "female = []\n",
    "male = []\n",
    "user1 = {'username':'keving', 'status': True, 'firstname': 'Kevin', 'lastname':'Wick', 'gender': 'male', 'member':'FuchiCorp'}\n",
    "user2 = {'username':'cutiebun', 'status': False, 'firstname': 'Emma', 'lastname':'Gibson', 'gender': 'female', 'member':'Apple'}\n",
    "if user1['member'].lower() == 'fuchicorp' or user1['member'].lower() == 'apple':\n",
    "    email = user1['firstname'].lower() + '.' + user1['lastname'].lower() + '@' + user1['member'].lower() + '.com'\n",
    "    user1.update({'email':email})\n",
    "if user2['member'].lower() == 'fuchicorp' or user2['member'].lower() == 'apple':\n",
    "    email = user2['firstname'].lower() + '.' + user2['lastname'].lower() + '@' + user2['member'].lower() + '.com'\n",
    "    user2.update({'email':email})\n",
    "if user1['gender'].lower() == 'male':\n",
    "    male.append(user1)\n",
    "else:\n",
    "    female.append(user1)\n",
    "if user2['gender'].lower() == 'male':\n",
    "    male.append(user2)\n",
    "else:\n",
    "    female.append(user2)\n",
    "\n",
    "print(male)\n",
    "print(female)"
   ]
  }
 ],
 "metadata": {
  "kernelspec": {
   "display_name": "Python 3",
   "language": "python",
   "name": "python3"
  },
  "language_info": {
   "codemirror_mode": {
    "name": "ipython",
    "version": 3
   },
   "file_extension": ".py",
   "mimetype": "text/x-python",
   "name": "python",
   "nbconvert_exporter": "python",
   "pygments_lexer": "ipython3",
   "version": "3.6.5"
  }
 },
 "nbformat": 4,
 "nbformat_minor": 2
}
