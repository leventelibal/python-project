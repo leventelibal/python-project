{
 "cells": [
  {
   "cell_type": "code",
   "execution_count": 42,
   "metadata": {},
   "outputs": [
    {
     "name": "stdout",
     "output_type": "stream",
     "text": [
      "kevingwick@fuchicorp.com\n",
      "emmagipson@apple.com\n",
      "[{'username': 'keving', 'status': True, 'firstname': 'keving', 'lastname': 'wick', 'gender': 'male', 'member': 'fuchicorp', 'email': 'kevingwick@fuchicorp.com'}]\n",
      "[{'username': 'cutiebun', 'status': False, 'firstname': 'emma', 'lastname': 'gipson', 'gender': 'female', 'member': 'apple', 'email': 'emmagipson@apple.com'}]\n"
     ]
    }
   ],
   "source": [
    "#Task 3 if statement\n",
    "\n",
    "female_list = []\n",
    "male_list = []\n",
    "trans_list = []\n",
    "\n",
    "3.\n",
    "user1 = {\n",
    "    'username' : 'keving',\n",
    "    'status' : True,\n",
    "    'firstname' : 'keving',\n",
    "    'lastname' : 'wick',\n",
    "    'gender' : 'male',\n",
    "    'member' : 'fuchicorp'\n",
    "}\n",
    "4.\n",
    "user2 = {\n",
    "    'username' : 'cutiebun',\n",
    "    'status' : False,\n",
    "    'firstname' : 'emma',\n",
    "    'lastname' : 'gipson',\n",
    "    'gender' : 'female',\n",
    "    'member' : 'apple'\n",
    "}\n",
    "\n",
    "5.\n",
    "\n",
    "if 'fuchicorp' or 'apple' in user1['member']:\n",
    "    print(f'{user1[\"firstname\"]}{user1[\"lastname\"]}@{user1[\"member\"]}.com')\n",
    "    email = user1['firstname'] + user1['lastname'] + '@' + user1['member'] + '.com'\n",
    "    user1.update({'email':email})\n",
    "          \n",
    "if 'fuchicorp' or 'apple' in user2['member']:\n",
    "    print(f'{user2[\"firstname\"]}{user2[\"lastname\"]}@{user2[\"member\"]}.com')\n",
    "    email = user2['firstname'] + user2['lastname'] + '@' + user2['member'] + '.com'\n",
    "    user2.update({'email':email})\n",
    "          \n",
    "\n",
    "6.\n",
    "if user1['gender'] == 'female':\n",
    "    female_list.append(user1)\n",
    "elif user1['gender'] == 'male':\n",
    "    male_list.append(user1)\n",
    "else:\n",
    "    trans_list.append(user1)\n",
    "\n",
    "if user2['gender'] == 'female':\n",
    "    female_list.append(user2)\n",
    "elif user2['gender'] == 'male':\n",
    "    male_list.append(user2)\n",
    "else:\n",
    "    trans_list.append(user2)\n",
    "          \n",
    "          \n",
    "print(male_list)\n",
    "print(female_list)"
   ]
  },
  {
   "cell_type": "code",
   "execution_count": null,
   "metadata": {},
   "outputs": [],
   "source": []
  }
 ],
 "metadata": {
  "kernelspec": {
   "display_name": "Python 3",
   "language": "python",
   "name": "python3"
  },
  "language_info": {
   "codemirror_mode": {
    "name": "ipython",
    "version": 3
   },
   "file_extension": ".py",
   "mimetype": "text/x-python",
   "name": "python",
   "nbconvert_exporter": "python",
   "pygments_lexer": "ipython3",
   "version": "3.6.5"
  }
 },
 "nbformat": 4,
 "nbformat_minor": 2
}
