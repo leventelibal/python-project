{
 "cells": [
  {
   "cell_type": "code",
   "execution_count": null,
   "metadata": {},
   "outputs": [],
   "source": [
    "door = 'open'\n",
    "\n",
    "if door == 'open':\n",
    "    print('Yes, you can go!!!')\n",
    "    \n",
    "elif door == 'close':\n",
    "    print('No, you can not go!!!')\n",
    "\n",
    "else:\n",
    "    print('Something wrong')\n",
    "    \n"
   ]
  },
  {
   "cell_type": "code",
   "execution_count": null,
   "metadata": {},
   "outputs": [],
   "source": [
    "name = input('What is your name? :')\n",
    "\n",
    "\n",
    "name = name.capitalize()\n",
    "\n",
    "if name == 'Anna':\n",
    "    print('Privet ' + name)\n",
    "elif name == 'Farkhod':\n",
    "    print('Salom ' + name)\n",
    "else:\n",
    "    print('Hello ' + name)"
   ]
  },
  {
   "cell_type": "code",
   "execution_count": null,
   "metadata": {},
   "outputs": [],
   "source": [
    "black_list = ['Abdul', 'Farkhod', 'Florin']\n",
    "student = input('What is your name? :')\n",
    "\n",
    "student = student.capitalize()\n",
    "\n",
    "\n",
    "if student in black_list:\n",
    "    print('Sorry you can not come in')\n"
   ]
  },
  {
   "cell_type": "code",
   "execution_count": 11,
   "metadata": {},
   "outputs": [
    {
     "name": "stdout",
     "output_type": "stream",
     "text": [
      "What is your name? :farkhod\n",
      "What is your birthday <year>? :1996\n",
      "Your name is :Farkhod, Your age is :23\n"
     ]
    }
   ],
   "source": [
    "name = input('What is your name? :').capitalize()\n",
    "year = int(input('What is your birthday <year>? :'))\n",
    "\n",
    "age = 2019 - year\n",
    "print(f'Your name is :{name}, Your age is :{age}')"
   ]
  },
  {
   "cell_type": "code",
   "execution_count": 15,
   "metadata": {},
   "outputs": [
    {
     "name": "stdout",
     "output_type": "stream",
     "text": [
      "Door is close!!\n"
     ]
    }
   ],
   "source": [
    "door = False\n",
    "\n",
    "if door:\n",
    "    print('Door is open!!')\n",
    "else:\n",
    "    print('Door is close!!')\n",
    "\n"
   ]
  },
  {
   "cell_type": "code",
   "execution_count": 57,
   "metadata": {},
   "outputs": [
    {
     "name": "stdout",
     "output_type": "stream",
     "text": [
      "############################################\n",
      "###### Information about Abdul Sharif ######\n",
      "############################################\n",
      "## Username: asharif\n",
      "## Full Name: Abdul Sharif\n",
      "## User can not login\n",
      "## User is attends Python class\n",
      "## User is attends Terraform class\n",
      "## User is attends Ansible class\n"
     ]
    }
   ],
   "source": [
    "student = {\n",
    "    'first_name': 'Abdul', \n",
    "    'last_name': 'Sharif', \n",
    "    'username': 'asharif',\n",
    "    'password': 'redhat',\n",
    "    'status': False,\n",
    "    'classes' : ['Python', 'Terraform', 'Ansible']\n",
    "}\n",
    "print('############################################')\n",
    "print(f'###### Information about {student[\"first_name\"]} {student[\"last_name\"]} ######')\n",
    "print('############################################')\n",
    "print(f'## Username: {student[\"username\"]}')\n",
    "print(f'## Full Name: {student[\"first_name\"]} {student[\"last_name\"]}')\n",
    "if student['status']:\n",
    "      print('## User can login')\n",
    "else:\n",
    "      print('## User can not login')\n",
    "\n",
    "if 'Python' in student['classes']:\n",
    "    print(f'## User is attends Python class')\n",
    "\n",
    "if 'Terraform' in student['classes']:\n",
    "    print(f'## User is attends Terraform class')\n",
    "\n",
    "if 'Ansible' in student['classes']:\n",
    "    print(f'## User is attends Ansible class')\n"
   ]
  },
  {
   "cell_type": "code",
   "execution_count": null,
   "metadata": {},
   "outputs": [],
   "source": []
  }
 ],
 "metadata": {
  "kernelspec": {
   "display_name": "Python 3",
   "language": "python",
   "name": "python3"
  },
  "language_info": {
   "codemirror_mode": {
    "name": "ipython",
    "version": 3
   },
   "file_extension": ".py",
   "mimetype": "text/x-python",
   "name": "python",
   "nbconvert_exporter": "python",
   "pygments_lexer": "ipython3",
   "version": "3.6.5"
  }
 },
 "nbformat": 4,
 "nbformat_minor": 2
}
